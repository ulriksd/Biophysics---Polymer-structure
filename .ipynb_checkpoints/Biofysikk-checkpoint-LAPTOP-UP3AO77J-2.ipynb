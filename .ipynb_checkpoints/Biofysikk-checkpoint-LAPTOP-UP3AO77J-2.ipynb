{
 "cells": [
  {
   "cell_type": "code",
   "execution_count": 2,
   "metadata": {
    "cell_id": "82dd153a-a013-461e-b6fa-af0e6d3f7d47",
    "deepnote_cell_type": "code",
    "deepnote_to_be_reexecuted": false,
    "execution_millis": 75351,
    "execution_start": 1644271779632,
    "source_hash": "47e976a7",
    "tags": []
   },
   "outputs": [],
   "source": [
    "import os\n",
    "\n",
    "def remove_old_files():\n",
    "    files = os.listdir(\".\")\n",
    "    for file in files:\n",
    "        if file.endswith(\".npz\"):\n",
    "            os.remove(file)\n",
    "\n",
    "# uncomment this line to remove outdated numpy files\n",
    "remove_old_files()"
   ]
  },
  {
   "cell_type": "code",
   "execution_count": 3,
   "metadata": {
    "cell_id": "97fa8bea-cf84-47ac-81cc-6c4c2b61f1d4",
    "deepnote_cell_type": "code",
    "deepnote_to_be_reexecuted": false,
    "execution_millis": 2129,
    "execution_start": 1644271779633,
    "source_hash": "7b3a4b0f"
   },
   "outputs": [],
   "source": [
    "#Importing libraries\n",
    "\n",
    "import random\n",
    "import numpy as np\n",
    "import matplotlib.pyplot as plt\n",
    "from numba import njit\n",
    "%matplotlib inline\n",
    "\n",
    "#Setting parameters\n",
    "\n",
    "rel_per = 78 # relative permittivity epsilon_r\n",
    "distance_grid = 23e-6 # distance between two grid points\n",
    "distance_grid_new = 91e-6 # distance between two grid points\n",
    "vacuum_per = 8.85e-12 # Vacuum permittivity\n",
    "electron = 1.602e-19 # Electron charge\n",
    "boltzmann = 1.381e-23 # Boltzmanns constant\n",
    "alpha = electron**2/(4*np.pi*vacuum_per*rel_per*distance_grid**2)\n",
    "N = 15\n",
    "M = 30"
   ]
  },
  {
   "cell_type": "markdown",
   "metadata": {
    "cell_id": "00001-f111dbc9-6449-4cbf-bb5c-2edb86024770",
    "deepnote_cell_type": "markdown"
   },
   "source": [
    "# Oppgave 1\n",
    "\n",
    "## 1 a)"
   ]
  },
  {
   "cell_type": "code",
   "execution_count": 4,
   "metadata": {
    "cell_id": "00002-4a56ea45-4c4c-4906-9122-d88462848e08",
    "deepnote_cell_type": "code",
    "deepnote_to_be_reexecuted": false,
    "execution_millis": 1121,
    "execution_start": 1644271781831,
    "source_hash": "5514de0d"
   },
   "outputs": [
    {
     "name": "stdout",
     "output_type": "stream",
     "text": [
      "Compiled\n"
     ]
    }
   ],
   "source": [
    "def random_pos_sample(N, M):\n",
    "    grid = np.zeros((N, N))  # defining N x N grid\n",
    "    sample = random.sample(range(N * N), 2*M)\n",
    "    np.put(grid, sample[:M], 1.)\n",
    "    np.put(grid, sample[M::], -1.)\n",
    "    return grid\n",
    "\n",
    "\n",
    "def set_grid_monomers(N, M=0):\n",
    "    if M > N*N / 2:\n",
    "        raise ValueError(\"Too many monomers for grid\")\n",
    "    grid = random_pos_sample(N, M)\n",
    "    return grid\n",
    "\n",
    "\n",
    "@njit\n",
    "def numba_pos_sample(N, M):\n",
    "    grid = np.zeros((N, N))\n",
    "    for i in range(2*M):\n",
    "        x = np.random.randint(0, N)\n",
    "        y = np.random.randint(0, N)\n",
    "        while grid[x, y]:\n",
    "            x = np.random.randint(0, N)\n",
    "            y = np.random.randint(0, N)\n",
    "\n",
    "        grid[x, y] = 1. if i < M else -1.\n",
    "    return grid\n",
    "\n",
    "\n",
    "@njit\n",
    "def set_grid_monomers_numba(N, M=0):\n",
    "    if M > N*N / 2:\n",
    "        raise ValueError(\"Too many monomers for grid\")\n",
    "    grid = numba_pos_sample(N, M)\n",
    "    return grid\n",
    "\n",
    "\n",
    "set_grid_monomers_numba(3, 2)\n",
    "print(\"Compiled\")\n"
   ]
  },
  {
   "cell_type": "markdown",
   "metadata": {
    "cell_id": "00003-8a602030-8706-4c00-a271-2e1d306762bf",
    "deepnote_cell_type": "markdown"
   },
   "source": [
    "## 1 b)"
   ]
  },
  {
   "cell_type": "code",
   "execution_count": 5,
   "metadata": {
    "cell_id": "00004-35197db9-d72f-4259-8dce-eac51910cd11",
    "deepnote_cell_type": "code",
    "deepnote_to_be_reexecuted": false,
    "execution_millis": 5,
    "execution_start": 1644271782961,
    "source_hash": "97112547"
   },
   "outputs": [
    {
     "name": "stdout",
     "output_type": "stream",
     "text": [
      "[[ 0.  0.  0.  0. -1.  0.  0.  0.  0.  0.  0.  0. -1.  0.  0.]\n",
      " [ 0.  0.  0.  0.  0.  0.  0. -1.  1.  0.  0.  0.  0.  0.  1.]\n",
      " [ 0. -1.  0.  0.  0.  1.  0.  1.  0.  0.  1.  0.  0.  0.  1.]\n",
      " [ 0.  1.  0.  0.  0.  0. -1.  1.  0.  0.  0.  0.  0. -1.  0.]\n",
      " [ 0.  0.  0.  0.  0.  0. -1.  0.  1.  0.  0.  1.  0.  0.  0.]\n",
      " [ 1.  0.  0.  0.  1.  0. -1.  0.  0.  0.  0.  0.  0. -1.  0.]\n",
      " [ 0.  0. -1.  0.  0.  1.  0.  1.  0.  0.  0.  0. -1.  1.  1.]\n",
      " [ 0. -1.  0.  0.  0.  0.  0.  0.  0.  1.  0.  0.  0.  1.  0.]\n",
      " [ 0.  0.  0.  0.  0. -1.  0.  0.  0. -1.  0.  0. -1.  0.  0.]\n",
      " [ 0. -1.  0.  1.  0.  0.  0.  1.  0.  0.  0.  0. -1.  0.  0.]\n",
      " [ 0.  1.  0.  0.  0.  0.  1.  0.  1.  0.  0.  0.  0.  0.  0.]\n",
      " [ 0. -1.  0.  0.  0.  0.  0.  0.  0.  0.  0.  0.  0.  0.  0.]\n",
      " [-1.  0.  0.  0.  0. -1.  0.  0. -1.  0. -1.  1.  0. -1.  0.]\n",
      " [ 1.  1.  0.  1. -1.  0. -1.  0.  0. -1.  0. -1.  0.  1.  0.]\n",
      " [ 0.  0.  0.  0. -1.  0.  0.  0.  1. -1. -1.  0.  1.  0.  0.]]\n"
     ]
    }
   ],
   "source": [
    "eksempel = set_grid_monomers(N, M)\n",
    "print(eksempel)"
   ]
  },
  {
   "cell_type": "code",
   "execution_count": 6,
   "metadata": {
    "cell_id": "00005-4e15d1b8-932b-49b1-a553-f84de78787db",
    "deepnote_cell_type": "code",
    "deepnote_output_heights": [
     266
    ],
    "deepnote_to_be_reexecuted": false,
    "execution_millis": 409,
    "execution_start": 1644271782978,
    "source_hash": "319c6d44"
   },
   "outputs": [
    {
     "data": {
      "image/png": "[encoded data removed]",
      "text/plain": [
       "<Figure size 432x288 with 2 Axes>"
      ]
     },
     "metadata": {
      "needs_background": "light"
     },
     "output_type": "display_data"
    }
   ],
   "source": [
    "# kilde: https://www.youtube.com/watch?v=aLckWub7kZM\n",
    "\n",
    "fig, ax = plt.subplots()\n",
    "mesh = ax.pcolormesh(eksempel, cmap=\"Spectral\")\n",
    "plt.colorbar(mesh)\n",
    "plt.title(\"Example starting grid\")\n",
    "ax.set_aspect('equal')"
   ]
  },
  {
   "cell_type": "markdown",
   "metadata": {
    "cell_id": "00006-6d53c321-4f2f-4292-b274-fedf010fe69c",
    "deepnote_cell_type": "markdown"
   },
   "source": [
    "## 1 c)"
   ]
  },
  {
   "cell_type": "code",
   "execution_count": 7,
   "metadata": {
    "cell_id": "00007-f903eb76-bcaf-4a96-9e1c-67254efbf39c",
    "deepnote_cell_type": "code",
    "deepnote_to_be_reexecuted": false,
    "execution_millis": 1448,
    "execution_start": 1644271783435,
    "source_hash": "1d581568"
   },
   "outputs": [
    {
     "name": "stdout",
     "output_type": "stream",
     "text": [
      "Compiled\n"
     ]
    }
   ],
   "source": [
    "@njit\n",
    "def grid_scan(grid):\n",
    "    \"\"\"Returns all locations of non-zero charge\"\"\"\n",
    "    ind = np.argwhere(grid)\n",
    "    return list(zip(ind[:, 0], ind[:, 1]))\n",
    "\n",
    "\n",
    "@njit\n",
    "def four_neighbors(N: int, p: tuple):\n",
    "    if N < 3:\n",
    "        raise ValueError(\"N must be at least equal to three\")\n",
    "    return [((p[0]+1) if p[0] + 1 < N else 0, p[1]), ((p[0]-1) if p[0] > 0 else N-1, p[1]), (p[0], (p[1]+1) if p[1] + 1 < N else 0), (p[0], (p[1]-1) if p[1] > 0 else N-1)]\n",
    "\n",
    "\n",
    "_N = 3; _M = 2\n",
    "_grid = set_grid_monomers(_N, _M)\n",
    "_points = grid_scan(_grid)\n",
    "four_neighbors(_N, _points[0])\n",
    "print(\"Compiled\")\n"
   ]
  },
  {
   "cell_type": "markdown",
   "metadata": {
    "cell_id": "00008-6b02f9a9-d90d-4f04-a8a6-4eb6554ee42e",
    "deepnote_cell_type": "markdown"
   },
   "source": [
    "## 1 d)"
   ]
  },
  {
   "cell_type": "code",
   "execution_count": 8,
   "metadata": {
    "cell_id": "00009-0a50335d-56c5-495e-8154-6ab506771a24",
    "deepnote_cell_type": "code",
    "deepnote_to_be_reexecuted": false,
    "execution_millis": 545,
    "execution_start": 1644271784633,
    "source_hash": "4e018fd5"
   },
   "outputs": [
    {
     "name": "stdout",
     "output_type": "stream",
     "text": [
      "-2.2370804648416614e-20\n"
     ]
    }
   ],
   "source": [
    "@njit\n",
    "def energy_contribution(grid, N, point):\n",
    "    contrib = 0.\n",
    "    for nb in four_neighbors(N, point):\n",
    "        contrib += np.sign(grid[point] * grid[nb]) #Dived by absolute value, in order to generalize the function\n",
    "    return contrib * alpha \n",
    "\n",
    "\n",
    "@njit\n",
    "def total_energy(grid):\n",
    "    N = len(grid)\n",
    "    energy = 0.\n",
    "    points = grid_scan(grid)\n",
    "    for point in points:\n",
    "        energy += energy_contribution(grid, N, point)\n",
    "    return 0.5 * energy\n",
    "\n",
    "\n",
    "print(total_energy(eksempel))\n"
   ]
  },
  {
   "cell_type": "markdown",
   "metadata": {
    "cell_id": "00010-bef7a0c5-855b-4652-aa33-1679a2a815dd",
    "deepnote_cell_type": "markdown"
   },
   "source": [
    "## 1 e)"
   ]
  },
  {
   "cell_type": "code",
   "execution_count": 9,
   "metadata": {
    "cell_id": "00011-972002af-ae07-4ac5-b812-926ebf781ebe",
    "deepnote_cell_type": "code",
    "deepnote_to_be_reexecuted": false,
    "execution_millis": 3812,
    "execution_start": 1644271785229,
    "source_hash": "f604d2ce"
   },
   "outputs": [
    {
     "name": "stdout",
     "output_type": "stream",
     "text": [
      "Compiled\n"
     ]
    }
   ],
   "source": [
    "@njit\n",
    "def move(grid: np.ndarray, N, M, T, points: list):       # used to move polymers and monomers\n",
    "    \"\"\"returns: change in energy\"\"\"\n",
    "    beta = 1./(boltzmann*T)\n",
    "\n",
    "    point_set = set(points)\n",
    "    legal_moves = {points[0]}\n",
    "    legal_moves.pop()  # This is needed for numba to determine type\n",
    "    while not legal_moves:\n",
    "        # 2*M = len(points) # velger tilfeldig monomer\n",
    "        random_index = np.random.randint(0, 2*M)\n",
    "        random_monomer = points[random_index]\n",
    "\n",
    "        # henter nabolaget til monomereren\n",
    "        neighbors = four_neighbors(N, random_monomer)\n",
    "\n",
    "        legal_moves = set(neighbors) - point_set\n",
    "\n",
    "    legal_moves_list = list(legal_moves)\n",
    "    \n",
    "    move = legal_moves_list[np.random.randint(0, len(legal_moves_list))]\n",
    "\n",
    "    old_contribution = energy_contribution(grid, N, random_monomer)\n",
    "\n",
    "    charge = grid[random_monomer]\n",
    "    grid[move] = charge\n",
    "    grid[random_monomer] = 0.\n",
    "\n",
    "    new_contribution = energy_contribution(grid, N, move)\n",
    "\n",
    "    delta_E = new_contribution - old_contribution\n",
    "\n",
    "    if delta_E <= 0 or random.random() <= np.exp(-beta*delta_E):\n",
    "        # updates points with moved point\n",
    "        points[random_index] = move\n",
    "        return delta_E\n",
    "    else:\n",
    "        # revert change\n",
    "        grid[random_monomer] = charge\n",
    "        grid[move] = 0.\n",
    "        return 0.\n",
    "\n",
    "\n",
    "@njit\n",
    "def MonteCarlo(N_s, N, M, T, grid: np.ndarray):     # T er temperatur!  # Current time complexity: O(N^2 + M*N_s)\n",
    "\n",
    "    result = grid.copy()\n",
    "    E = np.zeros(N_s+1)\n",
    "    n = np.arange(0, N_s+1)\n",
    "    \n",
    "    E[0] = total_energy(result)\n",
    "    points = grid_scan(result)\n",
    "    \n",
    "    for i in range(N_s):\n",
    "        delta_E = move(result, N, M, T, points)\n",
    "        E[i + 1] = E[i] + delta_E\n",
    "    return result, n, E\n",
    "\n",
    "\n",
    "_N = 3\n",
    "_M = 2\n",
    "_grid = set_grid_monomers(_N, _M)\n",
    "MonteCarlo(20, _N, _M, 200, _grid)\n",
    "print(\"Compiled\")\n"
   ]
  },
  {
   "cell_type": "markdown",
   "metadata": {
    "cell_id": "00012-73b24efd-81c4-479f-831d-4b298adce7ae",
    "deepnote_cell_type": "markdown"
   },
   "source": [
    "## 1 f)\n"
   ]
  },
  {
   "cell_type": "code",
   "execution_count": 10,
   "metadata": {
    "cell_id": "00013-9cb1815f-c071-4bce-a1d5-300ba96f064a",
    "deepnote_cell_type": "code",
    "deepnote_to_be_reexecuted": false,
    "execution_millis": 3,
    "execution_start": 1644271789050,
    "source_hash": "1b3817a1"
   },
   "outputs": [],
   "source": [
    "def plot_result(result, T, n, E):\n",
    "    fig, ax = plt.subplots()\n",
    "    mesh = ax.pcolormesh(result, cmap=\"Spectral\")\n",
    "    plt.colorbar(mesh)\n",
    "    plt.title(f\"Result at T={T:.1f} K\")\n",
    "    ax.set_aspect('equal')\n",
    "\n",
    "    plt.figure()\n",
    "    plt.plot(n, E)\n",
    "    plt.show()\n",
    "\n",
    "\n",
    "def get_file_name(T):\n",
    "    return f\"T={T:.1f}.npz\"\n",
    "\n",
    "\n",
    "def save_result(result, T, n, E):\n",
    "    np.savez(get_file_name(T), result=result, n=n, E=E)\n",
    "\n",
    "\n",
    "def load_result(T):\n",
    "    \"\"\"returns: result, n and E\"\"\"\n",
    "    file = np.load(get_file_name(T))\n",
    "    return file[\"result\"], file[\"n\"], file[\"E\"]"
   ]
  },
  {
   "cell_type": "code",
   "execution_count": 11,
   "metadata": {
    "cell_id": "090436c2-d348-4cc5-ad53-d3c8a1bfdaf1",
    "deepnote_cell_type": "code",
    "deepnote_output_heights": [
     266,
     266,
     261,
     266,
     261
    ],
    "deepnote_to_be_reexecuted": false,
    "execution_millis": 1805,
    "execution_start": 1644271789105,
    "source_hash": "53685388",
    "tags": []
   },
   "outputs": [
    {
     "data": {
      "image/png": "[encoded data removed]",
      "text/plain": [
       "<Figure size 432x288 with 2 Axes>"
      ]
     },
     "metadata": {
      "needs_background": "light"
     },
     "output_type": "display_data"
    },
    {
     "data": {
      "image/png": "[encoded data removed]",
      "text/plain": [
       "<Figure size 432x288 with 2 Axes>"
      ]
     },
     "metadata": {
      "needs_background": "light"
     },
     "output_type": "display_data"
    },
    {
     "data": {
      "image/png": "[encoded data removed]",
      "text/plain": [
       "<Figure size 432x288 with 1 Axes>"
      ]
     },
     "metadata": {
      "needs_background": "light"
     },
     "output_type": "display_data"
    },
    {
     "data": {
      "image/png": "[encoded data removed]",
      "text/plain": [
       "<Figure size 432x288 with 2 Axes>"
      ]
     },
     "metadata": {
      "needs_background": "light"
     },
     "output_type": "display_data"
    },
    {
     "data": {
      "image/png": "[encoded data removed]",
      "text/plain": [
       "<Figure size 432x288 with 1 Axes>"
      ]
     },
     "metadata": {
      "needs_background": "light"
     },
     "output_type": "display_data"
    }
   ],
   "source": [
    "# kilde: https://www.youtube.com/watch?v=aLckWub7kZM\n",
    "\n",
    "start_grid = set_grid_monomers(N, M)\n",
    "\n",
    "fig, ax = plt.subplots()\n",
    "mesh = ax.pcolormesh(start_grid, cmap=\"Spectral\")\n",
    "plt.colorbar(mesh)\n",
    "plt.title(\"Starting grid\")\n",
    "ax.set_aspect('equal')\n",
    "\n",
    "\n",
    "for T in (500, 200):\n",
    "    result, n, E = MonteCarlo(50_000, N, M, T, start_grid)\n",
    "    save_result(result, T, n, E)\n",
    "    plot_result(result, T, n, E)"
   ]
  },
  {
   "cell_type": "markdown",
   "metadata": {
    "cell_id": "00015-29c57a65-d8bf-4549-9ff0-58f618729a98",
    "deepnote_cell_type": "markdown"
   },
   "source": [
    "## 1 g)"
   ]
  },
  {
   "cell_type": "code",
   "execution_count": 159,
   "metadata": {
    "cell_id": "00016-02a56f9d-24e4-4932-90d4-6e610822d0a9",
    "deepnote_cell_type": "code",
    "deepnote_to_be_reexecuted": false,
    "execution_millis": 3082,
    "execution_start": 1644271790962,
    "source_hash": "dece2a75"
   },
   "outputs": [
    {
     "name": "stdout",
     "output_type": "stream",
     "text": [
      "Compiled\n"
     ]
    }
   ],
   "source": [
    "@njit\n",
    "def find_cluster(p, points, grid, cluster_grid, clusterID=1):\n",
    "    if clusterID < 1:\n",
    "        raise ValueError(\"clusterID is too low, 1 is lowest allowed\")\n",
    "    N = len(grid)\n",
    "    # DFS to find cluster\n",
    "    stack = [p]\n",
    "    while stack:\n",
    "        point = stack.pop()\n",
    "        if cluster_grid[point]:\n",
    "            continue\n",
    "        # Set the ID in the cluster-grid\n",
    "        cluster_grid[point] = clusterID\n",
    "        neighbor_points = set(four_neighbors(N, point)).intersection(points)\n",
    "        for neighbor in neighbor_points:\n",
    "            if not cluster_grid[neighbor]:\n",
    "                stack.append(neighbor)\n",
    "\n",
    "\n",
    "@njit\n",
    "def grid_to_cluster(grid: np.ndarray):\n",
    "    cluster_grid = np.full(grid.shape, 0, dtype=np.int32)\n",
    "    points = set(grid_scan(grid))\n",
    "    id = 0\n",
    "    for point in points:\n",
    "        if cluster_grid[point]:\n",
    "            continue\n",
    "        id += 1\n",
    "        find_cluster(point, points, grid, cluster_grid, clusterID=id)\n",
    "    return cluster_grid, id\n",
    "\n",
    "\n",
    "@njit\n",
    "def create_cluster_grid(grid):\n",
    "    cluster_grid, highestID = grid_to_cluster(grid)\n",
    "    # scaled_grid = cluster_grid.astype(np.float64) / highestID\n",
    "    return cluster_grid, highestID\n",
    "\n",
    "\n",
    "_N = 3\n",
    "_M = 2\n",
    "_grid = set_grid_monomers(_N, _M)\n",
    "create_cluster_grid(_grid)\n",
    "print(\"Compiled\")\n"
   ]
  },
  {
   "cell_type": "code",
   "execution_count": 155,
   "metadata": {
    "cell_id": "00017-852b8851-512b-45ad-a17b-af17cf74acf3",
    "deepnote_cell_type": "code",
    "deepnote_output_heights": [
     266,
     266
    ],
    "deepnote_to_be_reexecuted": false,
    "execution_millis": 797,
    "execution_start": 1644271794052,
    "source_hash": "ec093794"
   },
   "outputs": [
    {
     "data": {
      "image/png": "[encoded data removed]",
      "text/plain": [
       "<Figure size 432x288 with 1 Axes>"
      ]
     },
     "metadata": {
      "needs_background": "light"
     },
     "output_type": "display_data"
    },
    {
     "data": {
      "image/png": "[encoded data removed]",
      "text/plain": [
       "<Figure size 432x288 with 1 Axes>"
      ]
     },
     "metadata": {
      "needs_background": "light"
     },
     "output_type": "display_data"
    }
   ],
   "source": [
    "def plot_cluster(T):\n",
    "    result, n, E = load_result(T)\n",
    "    cluster_grid, num_clusters = create_cluster_grid(result)\n",
    "    fig, ax = plt.subplots()\n",
    "    ax.pcolormesh(cluster_grid, cmap=\"bone_r\")\n",
    "    ax.set_title(f\"Clusters at T={T:.1f}K\")\n",
    "    ax.set_aspect('equal')\n",
    "\n",
    "\n",
    "for T in (500, 200):\n",
    "    plot_cluster(T)\n"
   ]
  },
  {
   "cell_type": "markdown",
   "metadata": {
    "cell_id": "00018-deb4b43f-3711-4ed0-b0af-7735526bb57d",
    "deepnote_cell_type": "markdown"
   },
   "source": [
    "## 1h)\n"
   ]
  },
  {
   "cell_type": "code",
   "execution_count": 14,
   "metadata": {
    "cell_id": "00019-373dbc47-05af-4a51-b49d-4a90cae395e6",
    "deepnote_cell_type": "code",
    "deepnote_output_heights": [
     266,
     250
    ],
    "deepnote_to_be_reexecuted": false,
    "execution_millis": 7515,
    "execution_start": 1644271794545,
    "source_hash": "89a18b0"
   },
   "outputs": [
    {
     "data": {
      "image/png": "[encoded data removed]",
      "text/plain": [
       "<Figure size 432x288 with 2 Axes>"
      ]
     },
     "metadata": {
      "needs_background": "light"
     },
     "output_type": "display_data"
    },
    {
     "data": {
      "image/png": "[encoded data removed]",
      "text/plain": [
       "<Figure size 432x288 with 1 Axes>"
      ]
     },
     "metadata": {
      "needs_background": "light"
     },
     "output_type": "display_data"
    }
   ],
   "source": [
    "T_l = 100\n",
    "T_h = 1000\n",
    "N = 15\n",
    "M = 30\n",
    "t_max = 100_000\n",
    "s = 1./200\n",
    "C = 10_000\n",
    "\n",
    "mean_cluster_size_grid = set_grid_monomers(N, M)\n",
    "\n",
    "fig, ax = plt.subplots()\n",
    "mesh = ax.pcolormesh(mean_cluster_size_grid, cmap=\"Spectral\")\n",
    "plt.colorbar(mesh)\n",
    "plt.title(\"Start grid\")\n",
    "ax.set_aspect('equal')\n",
    "\n",
    "\n",
    "def calculate_mean_cluster_size(cluster_grid: np.ndarray, M, num_clusters):\n",
    "    mean_cluster_size = 2*M/num_clusters\n",
    "    return mean_cluster_size\n",
    "\n",
    "\n",
    "def t_equil(T):\n",
    "    return t_max*np.exp(-s*(T - T_l)) + C\n",
    "\n",
    "\n",
    "def MC_mean_cluster_size(N, M, T, grid):\n",
    "    t = int(t_equil(T))\n",
    "    result, n, E = MonteCarlo(t, N, M, T, grid)\n",
    "    save_result(result, T, n, E)\n",
    "    cluster_grid, num_clusters = create_cluster_grid(result)\n",
    "    mean_cluster_size = calculate_mean_cluster_size(cluster_grid, M, num_clusters)\n",
    "    return mean_cluster_size\n",
    "\n",
    "\n",
    "temperatures = np.linspace(T_l, T_h, 9*4 + 1)\n",
    "d = np.zeros_like(temperatures)\n",
    "for i, temp in enumerate(temperatures):\n",
    "    d[i] = MC_mean_cluster_size(N, M, temp, mean_cluster_size_grid)\n",
    "\n",
    "plt.figure()\n",
    "plt.plot(temperatures, d)\n",
    "plt.show()\n"
   ]
  },
  {
   "cell_type": "markdown",
   "metadata": {},
   "source": [
    "# Oppgave 2\n",
    "## 2a)"
   ]
  },
  {
   "cell_type": "code",
   "execution_count": 167,
   "metadata": {},
   "outputs": [],
   "source": [
    "#Setting parameters\n",
    "\n",
    "rel_per = 78 # relative permittivity epsilon_r\n",
    "distance_grid = 91e-6 # distance between two grid points\n",
    "vacuum_per = 8.85e-12 # Vacuum permittivity\n",
    "electron = 1.602e-19 # Electron charge\n",
    "boltzmann = 1.381e-23 # Boltzmanns constant\n",
    "alpha = electron**2/(4*np.pi*vacuum_per*rel_per*distance_grid**2)\n",
    "N_s = 30_000\n",
    "N = 20\n",
    "M = 4\n",
    "L = 12\n",
    "T = 200\n",
    "n = np.arange(0, N_s + 1)"
   ]
  },
  {
   "cell_type": "code",
   "execution_count": 16,
   "metadata": {},
   "outputs": [],
   "source": [
    "from itertools import product\n",
    "\n",
    "def generate_set_of_all_possible_positions(grid):  # NOTE 40-60% faster, but unsupported for numba\n",
    "    all_possible_positions = set(product(range(len(grid)), repeat=2))\n",
    "    return all_possible_positions        \n",
    "\n",
    "def generate_grid_addon(N, L, grid, all_possible_positions):\n",
    "    grid_addon = np.zeros((N,N))\n",
    "    grid_addon_failure = grid_addon.copy()\n",
    "    monomer = random.choice(list(all_possible_positions))\n",
    "    polymer = []\n",
    "    full_monomer = []\n",
    "    polymer.append((monomer))\n",
    "    try: # If there is not enough space for an L sized polymer, the polymer will instead be as big as the space around it allows.\n",
    "        for _ in range(L-1):\n",
    "            while True:\n",
    "                monomer = random.choice(list(set(polymer)-set(full_monomer)))\n",
    "                monomer_neighbours = four_neighbors(N, monomer)\n",
    "                legal_neighbours = list(set(monomer_neighbours).intersection(all_possible_positions) - set(polymer))\n",
    "                if len(legal_neighbours) == 0:\n",
    "                    full_monomer.append(tuple(monomer))\n",
    "                else:\n",
    "                    monomer = random.choice(legal_neighbours)\n",
    "                    polymer.append((monomer))\n",
    "                    break\n",
    "    except: #  An exception error is printed to terminal if a polymer is less than L in size, the quantity of these errors tells us how many such polymers exists in the grid.\n",
    "        return grid_addon_failure, all_possible_positions - set(polymer)\n",
    "    all_possible_positions = all_possible_positions - set(polymer)\n",
    "    for monomer in polymer:\n",
    "        grid_addon[monomer[1], monomer[0]] = 1\n",
    "    return grid_addon, all_possible_positions\n",
    "\n",
    "def set_grid_polymer(N, M=0, L=1):\n",
    "    if M * L > N*N / 2:\n",
    "        raise ValueError(\"Too many monomers for grid\")\n",
    "    grid = np.zeros((N, N))  # defining N x N grid\n",
    "    all_possible_positions = generate_set_of_all_possible_positions(grid)\n",
    "    for i in range(2*M):\n",
    "        grid_addon, all_possible_positions = generate_grid_addon(N, L, grid, all_possible_positions)\n",
    "        if (i % 2 == 0):\n",
    "            grid_addon *=  (i/2 + 1)\n",
    "        else:\n",
    "            grid_addon *=  -((i-1)/2 + 1)\n",
    "        grid += grid_addon\n",
    "    return grid"
   ]
  },
  {
   "cell_type": "code",
   "execution_count": 123,
   "metadata": {},
   "outputs": [
    {
     "data": {
      "image/png": "[encoded data removed]",
      "text/plain": [
       "<Figure size 432x288 with 2 Axes>"
      ]
     },
     "metadata": {
      "needs_background": "light"
     },
     "output_type": "display_data"
    }
   ],
   "source": [
    "# Testing 2a\n",
    "\n",
    "polymer_cf = set_grid_polymer(N, M, L)\n",
    "\n",
    "fig, ax = plt.subplots()\n",
    "mesh = ax.pcolormesh(polymer_cf[::-1], cmap=\"coolwarm_r\")\n",
    "plt.colorbar(mesh)\n",
    "plt.title(\"Start grid\")\n",
    "ax.set_aspect('equal')"
   ]
  },
  {
   "cell_type": "markdown",
   "metadata": {},
   "source": [
    "## 2b)"
   ]
  },
  {
   "cell_type": "code",
   "execution_count": 18,
   "metadata": {},
   "outputs": [],
   "source": [
    "@njit\n",
    "def energy_contribution_polymer(grid, N, point):\n",
    "    contrib = 0.\n",
    "    for nb in four_neighbors(N, point):\n",
    "        if nb != point:\n",
    "            contrib += np.sign(grid[point] * grid[nb]) #Dived by absolute value, in order to generalize the function\n",
    "    return contrib * alpha \n",
    "\n",
    "\n",
    "@njit\n",
    "def total_energy_polymer(grid):\n",
    "    N = len(grid)\n",
    "    energy = 0.\n",
    "    points = grid_scan(grid)\n",
    "    for point in points:\n",
    "        energy += energy_contribution_polymer(grid, N, point)\n",
    "    return 0.5 * energy\n"
   ]
  },
  {
   "cell_type": "code",
   "execution_count": 124,
   "metadata": {},
   "outputs": [
    {
     "name": "stdout",
     "output_type": "stream",
     "text": [
      "4.0014051256170355e-20\n"
     ]
    }
   ],
   "source": [
    "# Run 2b)\n",
    "\n",
    "print(total_energy_polymer(polymer_cf))"
   ]
  },
  {
   "cell_type": "markdown",
   "metadata": {},
   "source": [
    "## 2c)"
   ]
  },
  {
   "cell_type": "code",
   "execution_count": 20,
   "metadata": {},
   "outputs": [],
   "source": [
    "def scan_polymers(grid, M):\n",
    "    start_nr = M*-1 \n",
    "    dim = len(grid)\n",
    "    poly_dict = {}\n",
    "    poly_list = []\n",
    "    while start_nr != 2*M-1:\n",
    "        for y in range(N):\n",
    "            for x in range(N):\n",
    "                if grid[y][x] == start_nr:\n",
    "                    poly_list.append((y, x))\n",
    "        poly_dict[start_nr] = poly_list\n",
    "        poly_list = []\n",
    "        start_nr += 1\n",
    "    return poly_dict\n",
    "\n",
    "\n",
    "\n",
    "# right left down up -> 0, 1, 2, 3\n",
    "\n",
    "def move_polymer_rigidly(grid, dic, poly_nr, move):\n",
    "    N = len(grid)\n",
    "    polymer = dic[poly_nr]\n",
    "    old_dic = dic.copy()\n",
    "    if move == 0:\n",
    "        moved = []\n",
    "        for point in polymer:\n",
    "            new_point = (point[0], (point[1] + 1)%N)\n",
    "            moved.append(new_point)\n",
    "    elif move == 1:\n",
    "        moved = []\n",
    "        for point in polymer:\n",
    "            new_point = (point[0], (point[1] - 1)%N)\n",
    "            moved.append(new_point)\n",
    "    elif move == 2:\n",
    "        moved = []\n",
    "        for point in polymer:\n",
    "            new_point = ((point[0] + 1)%N, point[1])\n",
    "            moved.append(new_point)\n",
    "    elif move == 3:\n",
    "        moved = []\n",
    "        for point in polymer:\n",
    "            new_point = ((point[0] - 1)%N, point[1])\n",
    "            moved.append(new_point)\n",
    "    moved_set = set(moved)\n",
    "    dic[poly_nr] = moved\n",
    "    for key, values in dic.items():\n",
    "        if key == 0 or key == poly_nr: \n",
    "            continue\n",
    "        intersection_set = moved_set.intersection(set(values))   \n",
    "        if len(intersection_set) != 0:\n",
    "            return grid, old_dic\n",
    "    grid[grid == poly_nr] = 0\n",
    "    for point in dic[poly_nr]:\n",
    "        grid[point[0], point[1]] = poly_nr\n",
    "    return grid, dic\n",
    "    \n"
   ]
  },
  {
   "cell_type": "code",
   "execution_count": 125,
   "metadata": {},
   "outputs": [
    {
     "data": {
      "image/png": "[encoded data removed]",
      "text/plain": [
       "<Figure size 432x288 with 2 Axes>"
      ]
     },
     "metadata": {
      "needs_background": "light"
     },
     "output_type": "display_data"
    },
    {
     "data": {
      "image/png": "[encoded data removed]",
      "text/plain": [
       "<Figure size 432x288 with 2 Axes>"
      ]
     },
     "metadata": {
      "needs_background": "light"
     },
     "output_type": "display_data"
    }
   ],
   "source": [
    "#Testing 2c\n",
    "polymer_cf_copy = polymer_cf.copy()\n",
    "\n",
    "polymer_cf_moved, useless_lexicon = move_polymer_rigidly(polymer_cf_copy, scan_polymers(polymer_cf_copy, M), -1, 0)\n",
    "\n",
    "fig, ax = plt.subplots()\n",
    "mesh = ax.pcolormesh(polymer_cf[::-1], cmap=\"coolwarm_r\")\n",
    "plt.colorbar(mesh)\n",
    "plt.title(\"Start grid\")\n",
    "ax.set_aspect('equal')   \n",
    "\n",
    "fig, ax = plt.subplots()\n",
    "mesh = ax.pcolormesh(polymer_cf_moved[::-1], cmap=\"coolwarm_r\")\n",
    "plt.colorbar(mesh)\n",
    "plt.title(\"End grid\")\n",
    "ax.set_aspect('equal')   "
   ]
  },
  {
   "cell_type": "markdown",
   "metadata": {},
   "source": [
    "## 2f)"
   ]
  },
  {
   "cell_type": "code",
   "execution_count": 126,
   "metadata": {},
   "outputs": [],
   "source": [
    "def broken_polymer(grid, polymer_dic, poly_num): #Returns boolean\n",
    "    \n",
    "    N = len(grid)\n",
    "    \n",
    "    polymer_points = polymer_dic[poly_num]\n",
    "    \n",
    "    new_grid = np.zeros((N,N))\n",
    "    \n",
    "    for y in range(N):\n",
    "        for x in range(N):\n",
    "                        \n",
    "            point = (y, x)\n",
    "            \n",
    "            if point in polymer_points:\n",
    "                new_grid[y][x] = -1\n",
    "            else:\n",
    "                pass\n",
    "    \n",
    "    cluster, ID = create_cluster_grid(new_grid)\n",
    "    \n",
    "    if ID == 1:\n",
    "        return False\n",
    "    else:\n",
    "        return True"
   ]
  },
  {
   "cell_type": "markdown",
   "metadata": {},
   "source": [
    "## 2e)"
   ]
  },
  {
   "cell_type": "code",
   "execution_count": 117,
   "metadata": {},
   "outputs": [],
   "source": [
    "# right left down up -> 0, 1, 2, 3\n",
    "\n",
    "def polymer_point_to_column(polymer):\n",
    "    used_column_numbers = []\n",
    "    same_column_polymers = []\n",
    "    for point_1 in polymer:\n",
    "        column_polymers = []\n",
    "        column_nr = point_1[1]\n",
    "        if column_nr in used_column_numbers:\n",
    "            continue\n",
    "        for point_2 in polymer:\n",
    "            if point_2[1] == column_nr:\n",
    "                column_polymers.append(point_2)\n",
    "        same_column_polymers.append(column_polymers)\n",
    "        used_column_numbers.append(column_nr)\n",
    "    return same_column_polymers\n",
    "\n",
    "def polymer_point_to_row(polymer):\n",
    "    used_row_numbers = []\n",
    "    same_row_polymers = []\n",
    "    for point_1 in polymer:\n",
    "        row_polymers = []\n",
    "        row_nr = point_1[0]\n",
    "        if row_nr in used_row_numbers:\n",
    "            continue\n",
    "        for point_2 in polymer:\n",
    "            if point_2[0] == row_nr:\n",
    "                row_polymers.append(point_2)\n",
    "        same_row_polymers.append(row_polymers)\n",
    "        used_row_numbers.append(row_nr)\n",
    "    return same_row_polymers\n",
    "\n",
    "def move_polymer_medium_flexibility(grid, dic, poly_nr, move):\n",
    "    N = len(grid)\n",
    "    polymer = dic[poly_nr]\n",
    "    same_column_polymers = polymer_point_to_column(polymer)\n",
    "    same_row_polymers = polymer_point_to_row(polymer) \n",
    "    old_dic = dic.copy()\n",
    "    \n",
    "    illegal_positions = []\n",
    "    for key, values in dic.items():\n",
    "        if key == 0 or key == poly_nr:\n",
    "            continue\n",
    "        else:\n",
    "            illegal_positions = illegal_positions + values\n",
    "    \n",
    "    if move == 0:\n",
    "        moved = []\n",
    "        for row_polymer in same_row_polymers:\n",
    "            moved_part = []\n",
    "            nomoved_part = []\n",
    "            for point in row_polymer:\n",
    "                new_point = (point[0], (point[1] + 1) % N) \n",
    "                moved_part.append(new_point)\n",
    "                nomoved_part.append(point)\n",
    "                move_new = True\n",
    "                moved_part_set = set(moved_part)\n",
    "                intersection_set = moved_part_set.intersection(set(illegal_positions))   \n",
    "                if len(intersection_set) != 0:\n",
    "                    move_new = False\n",
    "            if move_new:\n",
    "                moved = moved + moved_part\n",
    "            else:\n",
    "                moved = moved + nomoved_part\n",
    "        \n",
    "                \n",
    "                \n",
    "    if move == 1:\n",
    "        moved = []\n",
    "        for row_polymer in same_row_polymers:\n",
    "            moved_part = []\n",
    "            nomoved_part = []\n",
    "            for point in row_polymer:\n",
    "                new_point = (point[0], (point[1] - 1) % N) \n",
    "                moved_part.append(new_point)\n",
    "                nomoved_part.append(point)\n",
    "                move_new = True\n",
    "                moved_part_set = set(moved_part)\n",
    "                intersection_set = moved_part_set.intersection(set(illegal_positions))   \n",
    "                if len(intersection_set) != 0:\n",
    "                    move_new = False\n",
    "            if move_new:\n",
    "                moved = moved + moved_part\n",
    "            else:\n",
    "                moved = moved + nomoved_part\n",
    "\n",
    "    if move == 2:\n",
    "        moved = []\n",
    "        for column_polymer in same_column_polymers:\n",
    "            moved_part = []\n",
    "            nomoved_part = []\n",
    "            for point in column_polymer:\n",
    "                new_point = ((point[0] + 1) % N, point[1]) \n",
    "                moved_part.append(new_point)\n",
    "                nomoved_part.append(point)\n",
    "                move_new = True\n",
    "                moved_part_set = set(moved_part)\n",
    "                intersection_set = moved_part_set.intersection(set(illegal_positions))   \n",
    "                if len(intersection_set) != 0:\n",
    "                    move_new = False\n",
    "            if move_new:\n",
    "                moved = moved + moved_part\n",
    "            else:\n",
    "                moved = moved + nomoved_part\n",
    "\n",
    "    if move == 3:\n",
    "        moved = []\n",
    "        for column_polymer in same_column_polymers:\n",
    "            moved_part = []\n",
    "            nomoved_part = []\n",
    "            for point in column_polymer:\n",
    "                new_point = ((point[0] - 1) % N, point[1]) \n",
    "                moved_part.append(new_point)\n",
    "                nomoved_part.append(point)\n",
    "                move_new = True\n",
    "                moved_part_set = set(moved_part)\n",
    "                intersection_set = moved_part_set.intersection(set(illegal_positions))   \n",
    "                if len(intersection_set) != 0:\n",
    "                    move_new = False\n",
    "            if move_new:\n",
    "                moved = moved + moved_part\n",
    "            else:\n",
    "                moved = moved + nomoved_part\n",
    "         \n",
    "    dic[poly_nr] = moved\n",
    "    if broken_polymer(grid, dic, poly_nr):\n",
    "        return grid, old_dic\n",
    "        \n",
    "    grid[grid == poly_nr] = 0\n",
    "    for point in dic[poly_nr]:\n",
    "        grid[point[0], point[1]] = poly_nr\n",
    "    return grid, dic                     "
   ]
  },
  {
   "cell_type": "code",
   "execution_count": 127,
   "metadata": {},
   "outputs": [
    {
     "data": {
      "image/png": "[encoded data removed]",
      "text/plain": [
       "<Figure size 432x288 with 2 Axes>"
      ]
     },
     "metadata": {
      "needs_background": "light"
     },
     "output_type": "display_data"
    },
    {
     "data": {
      "image/png": "[encoded data removed]",
      "text/plain": [
       "<Figure size 432x288 with 2 Axes>"
      ]
     },
     "metadata": {
      "needs_background": "light"
     },
     "output_type": "display_data"
    }
   ],
   "source": [
    "# Testing 2e)\n",
    "\n",
    "medium_flexibility_polymer = set_grid_polymer(N, M, L)\n",
    "\n",
    "fig, ax = plt.subplots()\n",
    "mesh = ax.pcolormesh(medium_flexibility_polymer[::-1], cmap=\"coolwarm_r\")\n",
    "plt.colorbar(mesh)\n",
    "plt.title(\"Start grid\")\n",
    "ax.set_aspect('equal')   \n",
    "\n",
    "medium_flexibility_polymer_moved, useless_lexicon = move_polymer_medium_flexibility(medium_flexibility_polymer.copy(),scan_polymers(medium_flexibility_polymer.copy(), M) , 4, 0)\n",
    "\n",
    "fig, ax = plt.subplots()\n",
    "mesh = ax.pcolormesh(medium_flexibility_polymer_moved[::-1], cmap=\"coolwarm_r\")\n",
    "plt.colorbar(mesh)\n",
    "plt.title(\"End grid\")\n",
    "ax.set_aspect('equal')   "
   ]
  },
  {
   "cell_type": "markdown",
   "metadata": {},
   "source": [
    "## 2d)"
   ]
  },
  {
   "cell_type": "code",
   "execution_count": 133,
   "metadata": {},
   "outputs": [],
   "source": [
    "def monte_carlo_polymer(N_s, N, M, T, grid, move_type):     # T is temperature!  # Current time complexity: O(N^2 + M*N_s)\n",
    "                                                            # move_type: 0 = \"rigid\" or 1 = \"flexible\"\n",
    "    beta = 1./(boltzmann*T)\n",
    "    result = grid.copy()\n",
    "    E = np.zeros(N_s+1)\n",
    "    E[0] = total_energy_polymer(result)\n",
    "    polymer_lexicon = scan_polymers(result, M)\n",
    "    sign = [-1,1]\n",
    "    for i in range(1, N_s+1):\n",
    "        poly_nr = random.randrange(1, M + 1) * random.choice(sign)\n",
    "        move = random.randrange(4)\n",
    "        old_result = result.copy()\n",
    "        if move_type == 0:\n",
    "            result, polymer_lexicon = move_polymer_rigidly(result.copy(), polymer_lexicon.copy(), poly_nr, move)\n",
    "        elif move_type == 1:\n",
    "            result, polymer_lexicon = move_polymer_medium_flexibility(result.copy(), polymer_lexicon.copy(), poly_nr, move)\n",
    "        else:\n",
    "            print(\"Error, invalid move_type\")\n",
    "            return result\n",
    "        E[i] = total_energy_polymer(result)\n",
    "        delta_E = E[i] - E[i-1]\n",
    "        \n",
    "        if delta_E <= 0 or random.random() <= np.exp(-beta*delta_E):\n",
    "            continue\n",
    "        else:\n",
    "            result = old_result\n",
    "    return result, E"
   ]
  },
  {
   "cell_type": "code",
   "execution_count": 148,
   "metadata": {},
   "outputs": [
    {
     "data": {
      "image/png": "[encoded data removed]",
      "text/plain": [
       "<Figure size 432x288 with 2 Axes>"
      ]
     },
     "metadata": {
      "needs_background": "light"
     },
     "output_type": "display_data"
    },
    {
     "data": {
      "image/png": "[encoded data removed]",
      "text/plain": [
       "<Figure size 432x288 with 2 Axes>"
      ]
     },
     "metadata": {
      "needs_background": "light"
     },
     "output_type": "display_data"
    },
    {
     "data": {
      "image/png": "[encoded data removed]",
      "text/plain": [
       "<Figure size 432x288 with 1 Axes>"
      ]
     },
     "metadata": {
      "needs_background": "light"
     },
     "output_type": "display_data"
    }
   ],
   "source": [
    "## Running montecarlo\n",
    "\n",
    "polymer_montecarlo_original_rigid = set_grid_polymer(N, M, L)\n",
    "\n",
    "fig, ax = plt.subplots()\n",
    "mesh = ax.pcolormesh(polymer_montecarlo_original_rigid[::-1], cmap=\"coolwarm_r\")\n",
    "plt.colorbar(mesh)\n",
    "plt.title(\"Start grid\")\n",
    "ax.set_aspect('equal')   \n",
    "\n",
    "polymer_montecarlo_after_rigid, E_rigid = monte_carlo_polymer(N_s, N, M, T, polymer_montecarlo_original_rigid, 0)\n",
    "\n",
    "fig, ax = plt.subplots()\n",
    "mesh = ax.pcolormesh(polymer_montecarlo_after_rigid[::-1], cmap=\"coolwarm_r\")\n",
    "plt.colorbar(mesh)\n",
    "plt.title(\"End grid\")\n",
    "ax.set_aspect('equal')   \n",
    "\n",
    "plt.figure()\n",
    "plt.plot(n, E_rigid)\n",
    "plt.title(\"Energy with rigid polymers\")\n",
    "plt.xlabel(\"iterasjon\")\n",
    "plt.ylabel(\"Energy [J]\")\n",
    "plt.show()"
   ]
  },
  {
   "cell_type": "markdown",
   "metadata": {},
   "source": [
    "## 2g)"
   ]
  },
  {
   "cell_type": "code",
   "execution_count": 149,
   "metadata": {
    "scrolled": false
   },
   "outputs": [
    {
     "data": {
      "image/png": "[encoded data removed]",
      "text/plain": [
       "<Figure size 432x288 with 2 Axes>"
      ]
     },
     "metadata": {
      "needs_background": "light"
     },
     "output_type": "display_data"
    },
    {
     "data": {
      "image/png": "[encoded data removed]",
      "text/plain": [
       "<Figure size 432x288 with 2 Axes>"
      ]
     },
     "metadata": {
      "needs_background": "light"
     },
     "output_type": "display_data"
    },
    {
     "data": {
      "image/png": "[encoded data removed]",
      "text/plain": [
       "<Figure size 432x288 with 1 Axes>"
      ]
     },
     "metadata": {
      "needs_background": "light"
     },
     "output_type": "display_data"
    }
   ],
   "source": [
    "# Running montecarlo\n",
    "\n",
    "polymer_montecarlo_flexible_original = set_grid_polymer(N, M, L)\n",
    "\n",
    "fig, ax = plt.subplots()\n",
    "mesh = ax.pcolormesh(polymer_montecarlo_flexible_original[::-1], cmap=\"coolwarm_r\")\n",
    "plt.colorbar(mesh)\n",
    "plt.title(\"Start grid\")\n",
    "ax.set_aspect('equal')   \n",
    "\n",
    "polymer_montecarlo_flexible_after, E_flexible = monte_carlo_polymer(N_s, N, M, T, polymer_montecarlo_flexible_original, 1)\n",
    "\n",
    "fig, ax = plt.subplots()\n",
    "mesh = ax.pcolormesh(polymer_montecarlo_flexible_after[::-1], cmap=\"coolwarm_r\")\n",
    "plt.colorbar(mesh)\n",
    "plt.title(\"End grid\")\n",
    "ax.set_aspect('equal') \n",
    "\n",
    "plt.figure()\n",
    "plt.plot(n, E_flexible)\n",
    "plt.title(\"Energy with flexible polymers\")\n",
    "plt.xlabel(\"iterasjon\")\n",
    "plt.ylabel(\"Energy [J]\")\n",
    "plt.show()"
   ]
  },
  {
   "cell_type": "markdown",
   "metadata": {},
   "source": [
    "## 2h)"
   ]
  },
  {
   "cell_type": "code",
   "execution_count": 185,
   "metadata": {},
   "outputs": [
    {
     "name": "stdout",
     "output_type": "stream",
     "text": [
      "3\n",
      "6\n",
      "9\n",
      "12\n",
      "15\n",
      "18\n",
      "21\n",
      "24\n",
      "27\n",
      "30\n",
      "33\n",
      "36\n",
      "40\n"
     ]
    },
    {
     "data": {
      "image/png": "[encoded data removed]",
      "text/plain": [
       "<Figure size 432x288 with 1 Axes>"
      ]
     },
     "metadata": {
      "needs_background": "light"
     },
     "output_type": "display_data"
    },
    {
     "data": {
      "image/png": "[encoded data removed]",
      "text/plain": [
       "<Figure size 432x288 with 1 Axes>"
      ]
     },
     "metadata": {
      "needs_background": "light"
     },
     "output_type": "display_data"
    }
   ],
   "source": [
    "# Setting new parameters\n",
    "import statistics\n",
    "\n",
    "T = 300\n",
    "t_r = 1000\n",
    "t_max = 10_000\n",
    "s = 1/200\n",
    "N = 30\n",
    "M = 5\n",
    "L_low = 3\n",
    "L_high = 39\n",
    "L_nodes = np.linspace(L_low, L_high + 1, 13)\n",
    "C = 5_000\n",
    "\n",
    "def t_equill(L, N, M, C):\n",
    "    return int(t_max * np.exp(-(L-L_low)*2*M/N**2*s) + C)  # C functions as a margin of error, t_equill should be bigger for bigger grids,\n",
    "                                                           # and smaller if there are many polymers\n",
    "                                                           # The constants are chosen in good faith\n",
    "\n",
    "\n",
    "m_average = []\n",
    "d_over_L_average = []\n",
    "for L in L_nodes:\n",
    "    L = int(L)\n",
    "    print(L)\n",
    "    t_e = t_equill(L, N, M, C)\n",
    "    N_s_nodes = np.arange(0, t_e, t_r)\n",
    "    m = []\n",
    "    d_over_L = []\n",
    "    for N_s in N_s_nodes:\n",
    "        if N_s == 0:\n",
    "            continue\n",
    "        differential_hilbert_topologyspace_grid = set_grid_polymer(N, M, L)\n",
    "        differential_hilbert_topologyspace_grid, E = monte_carlo_polymer(N_s, N, M, T, differential_hilbert_topologyspace_grid, 1)\n",
    "        differential_hilbert_topologyspace_cluster_grid, highest_id = create_cluster_grid(differential_hilbert_topologyspace_grid)\n",
    "        d_over_L.append((2*M) / highest_id)\n",
    "        m.append(highest_id/L)\n",
    "    m_average.append(statistics.mean(m))\n",
    "    d_over_L_average.append(statistics.mean(d_over_L))\n",
    "    \n",
    "plt.figure()\n",
    "plt.plot(L_nodes, m_average)\n",
    "plt.show()\n",
    "\n",
    "plt.figure()\n",
    "plt.plot(L_nodes, d_over_L_average)\n",
    "plt.show()\n",
    "    \n",
    "    \n"
   ]
  }
 ],
 "metadata": {
  "deepnote": {},
  "deepnote_execution_queue": [],
  "deepnote_notebook_id": "ca2d264d-52e0-4839-b9b5-4c0faaa183d7",
  "interpreter": {
   "hash": "ac59ebe37160ed0dfa835113d9b8498d9f09ceb179beaac4002f036b9467c963"
  },
  "kernelspec": {
   "display_name": "Python 3 (ipykernel)",
   "language": "python",
   "name": "python3"
  },
  "language_info": {
   "codemirror_mode": {
    "name": "ipython",
    "version": 3
   },
   "file_extension": ".py",
   "mimetype": "text/x-python",
   "name": "python",
   "nbconvert_exporter": "python",
   "pygments_lexer": "ipython3",
   "version": "3.9.10"
  }
 },
 "nbformat": 4,
 "nbformat_minor": 2
}
